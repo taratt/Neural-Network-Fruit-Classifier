{
 "cells": [
  {
   "cell_type": "markdown",
   "id": "6008644d",
   "metadata": {},
   "source": [
    "# Tara Saba 9731037"
   ]
  },
  {
   "cell_type": "markdown",
   "id": "87d878fa",
   "metadata": {},
   "source": [
    "## Importing libraries"
   ]
  },
  {
   "cell_type": "code",
   "execution_count": 6,
   "id": "1cfc9d6b",
   "metadata": {},
   "outputs": [],
   "source": [
    "import numpy as np\n",
    "import random\n",
    "import pickle\n",
    "import matplotlib.pyplot as plt\n",
    "import math\n",
    "import time"
   ]
  },
  {
   "cell_type": "markdown",
   "id": "9808cb31",
   "metadata": {},
   "source": [
    "## 1. Loading the datasets\n",
    "Loading and feature extraction are done in this section"
   ]
  },
  {
   "cell_type": "code",
   "execution_count": 7,
   "id": "c5508632",
   "metadata": {},
   "outputs": [
    {
     "name": "stdout",
     "output_type": "stream",
     "text": [
      "1962\n",
      "662\n"
     ]
    }
   ],
   "source": [
    "# loading training set features\n",
    "f = open(\"Datasets/train_set_features.pkl\", \"rb\")\n",
    "train_set_features2 = pickle.load(f)\n",
    "f.close()\n",
    "\n",
    "# reducing feature vector length \n",
    "features_STDs = np.std(a=train_set_features2, axis=0)\n",
    "train_set_features = train_set_features2[:, features_STDs > 52.3]\n",
    "\n",
    "# changing the range of data between 0 and 1\n",
    "train_set_features = np.divide(train_set_features, train_set_features.max())\n",
    "\n",
    "# loading training set labels\n",
    "f = open(\"Datasets/train_set_labels.pkl\", \"rb\")\n",
    "train_set_labels = pickle.load(f)\n",
    "f.close()\n",
    "\n",
    "# ------------\n",
    "# loading test set features\n",
    "f = open(\"Datasets/test_set_features.pkl\", \"rb\")\n",
    "test_set_features2 = pickle.load(f)\n",
    "f.close()\n",
    "\n",
    "# reducing feature vector length \n",
    "features_STDs = np.std(a=test_set_features2, axis=0)\n",
    "test_set_features = test_set_features2[:, features_STDs > 48]\n",
    "\n",
    "# changing the range of data between 0 and 1\n",
    "test_set_features = np.divide(test_set_features, test_set_features.max())\n",
    "\n",
    "# loading test set labels\n",
    "f = open(\"Datasets/test_set_labels.pkl\", \"rb\")\n",
    "test_set_labels = pickle.load(f)\n",
    "f.close()\n",
    "\n",
    "# ------------\n",
    "# preparing our training and test sets - joining datasets and lables\n",
    "train_set = []\n",
    "test_set = []\n",
    "\n",
    "for i in range(len(train_set_features)):\n",
    "    label = np.array([0,0,0,0])\n",
    "    label[int(train_set_labels[i])] = 1\n",
    "    label = label.reshape(4,1)\n",
    "    train_set.append((train_set_features[i].reshape(102,1), label))\n",
    "    \n",
    "\n",
    "for i in range(len(test_set_features)):\n",
    "    label = np.array([0,0,0,0])\n",
    "    label[int(test_set_labels[i])] = 1\n",
    "    label = label.reshape(4,1)\n",
    "    test_set.append((test_set_features[i].reshape(102,1), label))\n",
    "\n",
    "# shuffle\n",
    "\n",
    "random.shuffle(train_set)\n",
    "random.shuffle(test_set)\n",
    "# print size\n",
    "print(len(train_set)) #1962\n",
    "print(len(test_set)) #662\n",
    "\n"
   ]
  },
  {
   "cell_type": "markdown",
   "id": "2e58d4d3",
   "metadata": {},
   "source": [
    "## 2. Feed forward\n",
    "### Initializing the weights and biases\n",
    "Weights are initialized to normal random amounts and all the biases are initialized to zero"
   ]
  },
  {
   "cell_type": "code",
   "execution_count": 8,
   "id": "b6d483f7",
   "metadata": {},
   "outputs": [],
   "source": [
    "def initialize_weights():    \n",
    "    weights = {}\n",
    "    biases = {}\n",
    "    weights[1] = np.random.normal(size=(102,150))\n",
    "    weights[2] = np.random.normal(size=(150,60))\n",
    "    weights[3] = np.random.normal(size=(60,4))\n",
    "    biases[1] = np.zeros(150)\n",
    "    biases[2] = np.zeros(60)\n",
    "    biases[3] = np.zeros(4)\n",
    "    return weights, biases"
   ]
  },
  {
   "cell_type": "code",
   "execution_count": 9,
   "id": "311e43f6",
   "metadata": {},
   "outputs": [],
   "source": [
    "weights = {}\n",
    "biases = {}\n",
    "weights, biases = initialize_weights()"
   ]
  },
  {
   "cell_type": "markdown",
   "id": "96abac57",
   "metadata": {},
   "source": [
    "### Sigmoid function"
   ]
  },
  {
   "cell_type": "code",
   "execution_count": 10,
   "id": "ae4f2df8",
   "metadata": {},
   "outputs": [],
   "source": [
    "def sigmoid(x):\n",
    "    return 1 / (1 + np.exp(-x))"
   ]
  },
  {
   "cell_type": "markdown",
   "id": "6fea3526",
   "metadata": {},
   "source": [
    "### Sigmoid derivative function"
   ]
  },
  {
   "cell_type": "code",
   "execution_count": 11,
   "id": "173b0722",
   "metadata": {},
   "outputs": [],
   "source": [
    "def sigmoid_der(x):\n",
    "    return (x)*(1-(x))"
   ]
  },
  {
   "cell_type": "markdown",
   "id": "35747cbf",
   "metadata": {},
   "source": [
    "### Forward propagation for a single layer\n",
    "Multiple datas could be given to this function"
   ]
  },
  {
   "cell_type": "code",
   "execution_count": 12,
   "id": "e9cce783",
   "metadata": {},
   "outputs": [],
   "source": [
    "def layer_forward_propagation(a_curr, weights, bias):\n",
    "    na_curr = np.array(a_curr).reshape(len(a_curr),len(a_curr[0]))\n",
    "    a_next = np.dot((na_curr), weights) + bias\n",
    "    return sigmoid(a_next)\n",
    "    "
   ]
  },
  {
   "cell_type": "markdown",
   "id": "f100ca85",
   "metadata": {},
   "source": [
    "### Test"
   ]
  },
  {
   "cell_type": "code",
   "execution_count": 13,
   "id": "202c9f2a",
   "metadata": {},
   "outputs": [
    {
     "name": "stdout",
     "output_type": "stream",
     "text": [
      "[[0.57444252 0.31002552]\n",
      " [0.57444252 0.31002552]]\n"
     ]
    }
   ],
   "source": [
    "print(layer_forward_propagation(np.array([[3,4,5],[3,4,5]]),np.array([[0.5,0.4],[-0.8,0],[0.3,-0.6]]),[0.5,1]))"
   ]
  },
  {
   "cell_type": "markdown",
   "id": "be4df190",
   "metadata": {},
   "source": [
    "### Forward propagation through all layers\n"
   ]
  },
  {
   "cell_type": "code",
   "execution_count": 14,
   "id": "6c3bb6a8",
   "metadata": {},
   "outputs": [],
   "source": [
    "def forward_propagation(input_set, weights, biases):\n",
    "    results = {}\n",
    "    curr_result = np.array(input_set)\n",
    "    for layer in weights.keys():\n",
    "        results[layer]= layer_forward_propagation(curr_result, weights[layer], biases[layer])\n",
    "        curr_result = results[layer]\n",
    "    return results\n",
    "        "
   ]
  },
  {
   "cell_type": "markdown",
   "id": "760d4e76",
   "metadata": {},
   "source": [
    "### Test"
   ]
  },
  {
   "cell_type": "code",
   "execution_count": 15,
   "id": "4455dfdf",
   "metadata": {},
   "outputs": [
    {
     "name": "stdout",
     "output_type": "stream",
     "text": [
      "{'k': array([[0.57444252, 0.31002552],\n",
      "       [0.57444252, 0.31002552]])}\n"
     ]
    }
   ],
   "source": [
    "print(forward_propagation(np.array([[3,4,5],[3,4,5]]),{'k':np.array([[0.5,0.4],[-0.8,0],[0.3,-0.6]])},{'k':[0.5,1]}))"
   ]
  },
  {
   "cell_type": "markdown",
   "id": "a2c7eba7",
   "metadata": {},
   "source": [
    "### Formatting the input for feed forward"
   ]
  },
  {
   "cell_type": "code",
   "execution_count": 16,
   "id": "35f59be1",
   "metadata": {},
   "outputs": [],
   "source": [
    "def full_propagation(input_set, weights, biases):\n",
    "    results = forward_propagation([i[0] for i in input_set], weights, biases)\n",
    "    return results\n",
    "    "
   ]
  },
  {
   "cell_type": "markdown",
   "id": "c9fd0bef",
   "metadata": {},
   "source": [
    "### Calculating the accuracy of the prediction\n",
    "The highest activation among the 4 neurons in the last layer is considered to be the predicted fruit."
   ]
  },
  {
   "cell_type": "code",
   "execution_count": 17,
   "id": "17b00895",
   "metadata": {},
   "outputs": [],
   "source": [
    "def calculate_accuracy(predictions, labels):\n",
    "    counter = 0\n",
    "    lab = np.zeros(4)\n",
    "    for i in range(len(predictions)):\n",
    "        lab = np.array(labels[i][1]).reshape(4)\n",
    "        if (np.where(predictions[i] == np.amax(predictions[i]))[0]) == (np.where(lab == np.amax(lab))[0]):\n",
    "            counter +=1\n",
    "    accuracy = counter/len(predictions)\n",
    "    return accuracy"
   ]
  },
  {
   "cell_type": "markdown",
   "id": "1f959c91",
   "metadata": {},
   "source": [
    "### Accuracy testing\n",
    "Calculating the accuracy of the prediction for 200 datas in the training dataset with random weights"
   ]
  },
  {
   "cell_type": "code",
   "execution_count": 18,
   "id": "05faf2da",
   "metadata": {},
   "outputs": [
    {
     "name": "stdout",
     "output_type": "stream",
     "text": [
      "Accuracy:\n",
      "0.245\n"
     ]
    }
   ],
   "source": [
    "weights, biases = initialize_weights()\n",
    "print('Accuracy:')\n",
    "print(calculate_accuracy(full_propagation(train_set[:200],weights, biases)[3],train_set[:200]))"
   ]
  },
  {
   "cell_type": "markdown",
   "id": "7487257d",
   "metadata": {},
   "source": [
    "## 3 & 4. Non-vectorized and Vectorized Back propagation"
   ]
  },
  {
   "cell_type": "markdown",
   "id": "16d21f6b",
   "metadata": {},
   "source": [
    "### Cost calculation function\n",
    "Calculating the cost based on sse"
   ]
  },
  {
   "cell_type": "code",
   "execution_count": 19,
   "id": "1ebf6da1",
   "metadata": {},
   "outputs": [],
   "source": [
    "def calculate_cost(predictions, labels):\n",
    "    cost = 0\n",
    "    labels = np.array(labels).reshape((len(labels),4))\n",
    "    predictions = np.array(predictions).reshape((len(predictions),4))\n",
    "    cost_arr = np.zeros((len(labels),4))\n",
    "    cost_arr = (predictions - labels)**2\n",
    "#     print(np.array(predictions).shape, np.array(labels).shape, len(predictions))\n",
    "#     for i in range(4):\n",
    "#         for j in range(len(predictions)):\n",
    "#             cost+= cost_arr[j][i]\n",
    "    cost = np.sum(cost_arr)\n",
    "    cost = cost/len(predictions)\n",
    "    return cost"
   ]
  },
  {
   "cell_type": "markdown",
   "id": "776d00cd",
   "metadata": {},
   "source": [
    "### Non-vectorized partial derivatives calculation for the last layer\n",
    "Partial derivatives of the cost with respect to the weights, biases and activations results are calculated."
   ]
  },
  {
   "cell_type": "code",
   "execution_count": 20,
   "id": "ed7f0cac",
   "metadata": {},
   "outputs": [],
   "source": [
    "def last_layer_cost_dev(predictions, labels, weights):\n",
    "    grad_b = np.zeros(4)\n",
    "    grad_w = np.zeros(shape=(60,4))\n",
    "    grad_a = np.zeros(60)\n",
    "    for j in range(4):\n",
    "        grad_b[j] = (2*predictions[3][0][j]-2*labels[j])*sigmoid_der(predictions[3][0][j])\n",
    "        for k in range(60):\n",
    "            grad_w[k][j] = grad_b[j]*predictions[2][0][k]\n",
    "            grad_a[k] += grad_b[j]*weights[k][j]\n",
    "    return grad_w, grad_b , grad_a\n",
    "        "
   ]
  },
  {
   "cell_type": "markdown",
   "id": "7b74ecaa",
   "metadata": {},
   "source": [
    "### Non-vectorized partial derivatives calculation for the hidden layers\n",
    "Partial derivatives of the cost with respect to the weights, biases and activations results are calculated for the hidden layers."
   ]
  },
  {
   "cell_type": "code",
   "execution_count": 21,
   "id": "889d8f5e",
   "metadata": {},
   "outputs": [],
   "source": [
    "def hidden_layer_cost_dev(predictions, weights, grad_a,i):\n",
    "    grad_b = np.zeros(len(predictions[i][0]))\n",
    "    grad_w = np.zeros(shape=(len(predictions[i-1][0]),len(predictions[i][0])))\n",
    "    grad_aa = np.zeros(len(predictions[i-1][0]))\n",
    "    for k in range(len(predictions[i][0])):\n",
    "        grad_b[k] = grad_a[k]*sigmoid_der(predictions[i][0][k])\n",
    "        for m in range(len(predictions[i-1][0])):\n",
    "            grad_w[m][k] = grad_b[k]*predictions[i-1][0][m]\n",
    "            if i!=1:\n",
    "                grad_aa[m] += grad_b[k]*weights[m][k]\n",
    "    return grad_w, grad_b , grad_aa"
   ]
  },
  {
   "cell_type": "markdown",
   "id": "7b3f90d3",
   "metadata": {},
   "source": [
    "### Vectorized partial derivatives calculation for the last layer\n",
    "Partial derivatives of the cost with respect to the weights, biases and activations results are calculated."
   ]
  },
  {
   "cell_type": "code",
   "execution_count": 22,
   "id": "7c13a9ee",
   "metadata": {},
   "outputs": [],
   "source": [
    "def vectorized_last_cost_dev(predictions, labels, weights):\n",
    "    grad_b = np.zeros((4,1))\n",
    "    grad_w = np.zeros(shape=(60,4))\n",
    "    grad_a = np.zeros((60,1))\n",
    "    grad_b = (2* sigmoid_der(predictions[3][0])*(predictions[3][0]-labels)).reshape((4,1))\n",
    "    grad_w = ((predictions[2][0].reshape((60,1)))) @ np.transpose(grad_b)\n",
    "    grad_a =  weights @ grad_b \n",
    "    return grad_w, grad_b.reshape(4), grad_a.reshape(60)"
   ]
  },
  {
   "cell_type": "markdown",
   "id": "7b050318",
   "metadata": {},
   "source": [
    "### Vectorized partial derivatives calculation for the hidden layers\n",
    "Partial derivatives of the cost with respect to the weights, biases and activations results are calculated for the hidden layers."
   ]
  },
  {
   "cell_type": "code",
   "execution_count": 23,
   "id": "bc0c4893",
   "metadata": {},
   "outputs": [],
   "source": [
    "def vectorized_hidden_cost_dev(predictions, weights, grad_a,i):\n",
    "    grad_b = np.zeros((len(predictions[i][0]),1))\n",
    "    grad_w = np.zeros(shape=(len(predictions[i-1][0]),len(predictions[i][0])))\n",
    "    grad_aa = np.zeros((len(predictions[i-1][0]),1))\n",
    "    grad_b = (sigmoid_der(predictions[i][0])*grad_a).reshape((len(predictions[i][0]),1))\n",
    "    grad_w = ((predictions[i-1][0].reshape((len(predictions[i-1][0]),1)))) @ np.transpose(grad_b)\n",
    "    if i!= 1:\n",
    "        grad_aa = weights @ grad_b \n",
    "    return grad_w, grad_b.reshape(len(predictions[i][0])), grad_aa.reshape(len(predictions[i-1][0]))"
   ]
  },
  {
   "cell_type": "markdown",
   "id": "c7de6820",
   "metadata": {},
   "source": [
    "### Plotting cost per epoch"
   ]
  },
  {
   "cell_type": "code",
   "execution_count": 24,
   "id": "8f4362f5",
   "metadata": {},
   "outputs": [],
   "source": [
    "def do_plotting(costs):\n",
    "    x_ax = [i for i in range(len(costs))]\n",
    "    y_ax = costs\n",
    "    plt.plot(x_ax, y_ax,color = 'green')\n",
    "    plt.show()"
   ]
  },
  {
   "cell_type": "markdown",
   "id": "3ce336e3",
   "metadata": {},
   "source": [
    "### Back propagation function using stochastic gradient descent\n",
    "The number of epochs,batch size and mode are given as arguments. Mode specifies how the calculations are done (vectorized or non-vectorized)"
   ]
  },
  {
   "cell_type": "code",
   "execution_count": 61,
   "id": "5f444cc0",
   "metadata": {},
   "outputs": [],
   "source": [
    "def back_propagate(input_set, weights, biases, epochs,batch,lrate, mode):\n",
    "    startTime = time.time()\n",
    "    BATCH_SIZE = batch\n",
    "    LEARNING_RATE = lrate\n",
    "    EPOCHS_NUM = epochs\n",
    "    num_batches = math.ceil(len(input_set)/BATCH_SIZE)\n",
    "    cost = np.zeros(EPOCHS_NUM+1)\n",
    "    cost[0] = calculate_cost(full_propagation(input_set,weights, biases)[3], [i[1] for i in input_set])\n",
    "    for i in range(EPOCHS_NUM):\n",
    "        random.shuffle(input_set)\n",
    "        for j in range(num_batches):\n",
    "            grad_w = {}\n",
    "            grad_b = {}\n",
    "            grad_w[1] = np.zeros(shape=(102,150))\n",
    "            grad_w[2] = np.zeros(shape=(150,60))\n",
    "            grad_w[3] = np.zeros(shape=(60,4))\n",
    "            grad_b[1] = np.zeros(150)\n",
    "            grad_b[2] = np.zeros(60)\n",
    "            grad_b[3] = np.zeros(4)\n",
    "            if j != (num_batches - 1):\n",
    "                end = (j+1)*BATCH_SIZE\n",
    "            else:\n",
    "                end = len(input_set)\n",
    "            for train in input_set[j*BATCH_SIZE:end]:\n",
    "                    predictions = full_propagation([train], weights, biases)\n",
    "                    predictions[0] = [train[0]]\n",
    "                    lab = np.array(train[1]).reshape(4)\n",
    "                    grad_a = 0\n",
    "                    if mode == 'n':\n",
    "                        x,y,grad_a =last_layer_cost_dev(predictions, lab, weights[3])\n",
    "                    else:\n",
    "                        x,y,grad_a =vectorized_last_cost_dev(predictions, lab, weights[3])\n",
    "                    grad_w[3] += x\n",
    "                    grad_b[3] += y\n",
    "                    for h in range(2,0,-1):\n",
    "                        grad_x = grad_a\n",
    "                        if mode == 'n':\n",
    "                            x,y,grad_a = hidden_layer_cost_dev(predictions,weights[h],grad_a,h)\n",
    "                        else:\n",
    "                            x,y,grad_a = vectorized_hidden_cost_dev(predictions,weights[h],grad_a,h)\n",
    "                        grad_w[h]+= x\n",
    "                        grad_b[h]+=y\n",
    "\n",
    "            for layer in weights.keys():\n",
    "                weights[layer] = weights[layer] -(LEARNING_RATE*(grad_w[layer]/BATCH_SIZE))\n",
    "                biases[layer] = biases[layer] - (LEARNING_RATE*(grad_b[layer]/BATCH_SIZE))\n",
    "            \n",
    "            cost[i+1] += calculate_cost(full_propagation(input_set[j*BATCH_SIZE:end],weights, biases)[3], [i[1] for i in input_set[j*BATCH_SIZE:end]])/num_batches\n",
    "            \n",
    "    print(\"Time taken:\")\n",
    "    print(str(round((time.time() - startTime),2)),'s')\n",
    "#     print(calculate_accuracy(full_propagation(train_set[:200],weights, biases)[3],train_set[:200]))\n",
    "    return weights, biases,cost"
   ]
  },
  {
   "cell_type": "markdown",
   "id": "9fa73b57",
   "metadata": {},
   "source": [
    "### Testing non-vectorized gradient descent \n",
    "Testing non-vectorized calculations with the first 200 datas in the training set with 5 epochs\n",
    "It can be deducted that the cost of feedforward decreases after each epoch is finished and the weights are updated."
   ]
  },
  {
   "cell_type": "code",
   "execution_count": 60,
   "id": "7b55bdc8",
   "metadata": {},
   "outputs": [
    {
     "name": "stdout",
     "output_type": "stream",
     "text": [
      "Time taken:\n",
      "34.05 s\n",
      "0.6\n",
      "Cost array:\n",
      "[0.95748244 0.93480727 0.85245852 0.84555949 0.73500434 0.68592236]\n"
     ]
    },
    {
     "data": {
      "image/png": "[encoded data removed]",
      "text/plain": [
       "<Figure size 432x288 with 1 Axes>"
      ]
     },
     "metadata": {
      "needs_background": "light"
     },
     "output_type": "display_data"
    },
    {
     "name": "stdout",
     "output_type": "stream",
     "text": [
      "Accuracy:\n",
      "0.6\n"
     ]
    }
   ],
   "source": [
    "weights, biases = initialize_weights()\n",
    "weights,biases, cost = (back_propagate(train_set[:200],weights, biases,5,10,1 ,'n'))\n",
    "print('Cost array:')\n",
    "print(cost)\n",
    "do_plotting(cost)\n",
    "print('Accuracy:')\n",
    "print(calculate_accuracy(full_propagation(train_set[:200],weights, biases)[3],train_set[:200]))"
   ]
  },
  {
   "cell_type": "markdown",
   "id": "9991a170",
   "metadata": {},
   "source": [
    "### Testing vectorized gradient descent \n",
    "Testing vectorized calculations with the first 200 datas in the training set with 20 epochs.\n",
    "According to the results of this section and the previous one, the running time of the vectorized algorthim is clearly less than the non-vectorized one since numpy takes control in vectorized calculations and matrix multiplications and calculations can easily be parallelized.\n",
    "It is also evident that the accuracy increases and the cost decreases when the number of epochs is increased."
   ]
  },
  {
   "cell_type": "code",
   "execution_count": 121,
   "id": "625320e2",
   "metadata": {},
   "outputs": [
    {
     "name": "stdout",
     "output_type": "stream",
     "text": [
      "Time taken:\n",
      "0.82 s\n",
      "[2.4098309  1.47210511 1.56185318 1.08442393 0.45472949 0.2856193\n",
      " 0.20232999 0.09688639 0.03552883 0.02543697 0.01694908 0.01308315\n",
      " 0.01112066 0.01092681 0.0121597  0.00603466 0.0072206  0.00600277\n",
      " 0.00524122 0.00512756 0.00453221]\n"
     ]
    },
    {
     "data": {
      "image/png": "[encoded data removed]",
      "text/plain": [
       "<Figure size 432x288 with 1 Axes>"
      ]
     },
     "metadata": {
      "needs_background": "light"
     },
     "output_type": "display_data"
    },
    {
     "name": "stdout",
     "output_type": "stream",
     "text": [
      "Accuracy:\n",
      "1.0\n"
     ]
    }
   ],
   "source": [
    "weights, biases = initialize_weights()\n",
    "weights,biases, cost= (back_propagate(train_set[:200],weights, biases, 20, 10, 1 ,'v'))\n",
    "print(cost)\n",
    "do_plotting(cost)\n",
    "print('Accuracy:')\n",
    "print(calculate_accuracy(full_propagation(train_set[:200],weights, biases)[3],train_set[:200]))"
   ]
  },
  {
   "cell_type": "markdown",
   "id": "1d39b431",
   "metadata": {},
   "source": [
    "### Running the vectorized algorithm ten times\n",
    "The average cost diagram is also plotted and the accuracy reported in this section is the mean of accuracies of the ten runs."
   ]
  },
  {
   "cell_type": "code",
   "execution_count": 63,
   "id": "bb1cbe8f",
   "metadata": {},
   "outputs": [],
   "source": [
    "def avg_running(input_set, epochs):\n",
    "    startTime = time.time()\n",
    "    av_cost = np.zeros(epochs+1)\n",
    "    av_accuracy = 0\n",
    "    for i in range(10):\n",
    "        weights, biases = initialize_weights()\n",
    "        weights,biases, cost= (back_propagate(input_set,weights, biases, epochs,10,1 ,'v'))\n",
    "        accuracy = calculate_accuracy(full_propagation(input_set,weights, biases)[3],input_set)\n",
    "        av_cost = av_cost + cost\n",
    "        av_accuracy+= accuracy\n",
    "    print(\"Total time taken:\")\n",
    "    print(str(round((time.time() - startTime),2)),'s')\n",
    "    return av_cost/10 , av_accuracy/10, weights ,biases"
   ]
  },
  {
   "cell_type": "code",
   "execution_count": 65,
   "id": "59b1deb0",
   "metadata": {},
   "outputs": [
    {
     "name": "stdout",
     "output_type": "stream",
     "text": [
      "Time taken:\n",
      "0.8 s\n",
      "Time taken:\n",
      "0.85 s\n",
      "Time taken:\n",
      "0.83 s\n",
      "Time taken:\n",
      "0.78 s\n",
      "Time taken:\n",
      "0.76 s\n",
      "Time taken:\n",
      "0.76 s\n",
      "Time taken:\n",
      "0.84 s\n",
      "Time taken:\n",
      "0.77 s\n",
      "Time taken:\n",
      "0.75 s\n",
      "Time taken:\n",
      "0.75 s\n",
      "Total time taken:\n",
      "7.93 s\n",
      "Average accuracy:\n",
      "0.931\n"
     ]
    },
    {
     "data": {
      "image/png": "[encoded data removed]",
      "text/plain": [
       "<Figure size 432x288 with 1 Axes>"
      ]
     },
     "metadata": {
      "needs_background": "light"
     },
     "output_type": "display_data"
    }
   ],
   "source": [
    "avg_cost, av_accuracy, weights ,biases =  avg_running(train_set[:200], 20)\n",
    "print('Average accuracy:')\n",
    "print(av_accuracy)\n",
    "do_plotting(avg_cost)"
   ]
  },
  {
   "cell_type": "markdown",
   "id": "9278e1e0",
   "metadata": {},
   "source": [
    "## 5. Testing the algorithm"
   ]
  },
  {
   "cell_type": "markdown",
   "id": "b3b987b8",
   "metadata": {},
   "source": [
    "### Trainning the model with the whole sets\n",
    "Training is done with the train_set and then the cost and accuracy of the model is tested with the whole test_set. These actions are repeated for ten times. Also the mean of costs of train_set in each epoch is plotted."
   ]
  },
  {
   "cell_type": "code",
   "execution_count": 66,
   "id": "d14169b8",
   "metadata": {},
   "outputs": [
    {
     "name": "stdout",
     "output_type": "stream",
     "text": [
      "Time taken:\n",
      "3.7 s\n",
      "Time taken:\n",
      "3.62 s\n",
      "Time taken:\n",
      "3.63 s\n",
      "Time taken:\n",
      "3.65 s\n",
      "Time taken:\n",
      "3.66 s\n",
      "Time taken:\n",
      "3.62 s\n",
      "Time taken:\n",
      "3.71 s\n",
      "Time taken:\n",
      "3.73 s\n",
      "Time taken:\n",
      "3.89 s\n",
      "Time taken:\n",
      "3.89 s\n",
      "Total time taken:\n",
      "37.6 s\n"
     ]
    },
    {
     "data": {
      "image/png": "[encoded data removed]",
      "text/plain": [
       "<Figure size 432x288 with 1 Axes>"
      ]
     },
     "metadata": {
      "needs_background": "light"
     },
     "output_type": "display_data"
    },
    {
     "name": "stdout",
     "output_type": "stream",
     "text": [
      "Average accuracy of the training set:\n",
      "0.9248725790010195\n",
      "Average accuracy of the test set:\n",
      "0.9249244712990936\n",
      "Average cost of the test set:\n",
      "0.0788348804285476\n"
     ]
    }
   ],
   "source": [
    "startTime = time.time()\n",
    "av_cost = np.zeros(11)\n",
    "av_tr_ac = 0\n",
    "av_test_ac = 0\n",
    "av_cost_test = 0\n",
    "for i in range(10):\n",
    "    weights, biases = initialize_weights()\n",
    "    weights,biases, cost= (back_propagate(train_set,weights, biases, 10,10,1 ,'v'))\n",
    "    accuracy = calculate_accuracy(full_propagation(train_set,weights, biases)[3],train_set)\n",
    "    av_tr_ac += accuracy\n",
    "    av_cost = av_cost + cost\n",
    "    prediction = full_propagation(test_set,weights, biases)[3]\n",
    "    accuracy = calculate_accuracy(prediction ,test_set)\n",
    "    av_test_ac += accuracy\n",
    "    av_cost_test += calculate_cost(prediction, [i[1] for i in test_set])\n",
    "\n",
    "print(\"Total time taken:\")\n",
    "print(str(round((time.time() - startTime),2)),'s')\n",
    "do_plotting(av_cost/10)\n",
    "print('Average accuracy of the training set:')\n",
    "print(av_tr_ac/10)\n",
    "print('Average accuracy of the test set:')\n",
    "print(av_test_ac/10)\n",
    "print('Average cost of the test set:')\n",
    "print(av_cost_test/10)\n"
   ]
  },
  {
   "cell_type": "markdown",
   "id": "56ca0003",
   "metadata": {},
   "source": [
    "## BONUS 1:\n",
    "The tester function:\n",
    "Weights are multiplied by 0.1 so that the changes can be more evident."
   ]
  },
  {
   "cell_type": "code",
   "execution_count": 96,
   "id": "ac63ad1b",
   "metadata": {},
   "outputs": [],
   "source": [
    "def tester_function(epoch, batch, learning):\n",
    "    weights, biases = initialize_weights()\n",
    "    for l in weights.keys():\n",
    "        weights[l] = weights[l]* 0.1\n",
    "    weights,biases, cost= (back_propagate(train_set,weights, biases, epoch, batch, learning ,'v'))\n",
    "    print(cost)\n",
    "    do_plotting(cost)\n",
    "    print('Accuracy:')\n",
    "    print(calculate_accuracy(full_propagation(train_set,weights, biases)[3],train_set))"
   ]
  },
  {
   "cell_type": "markdown",
   "id": "a9172bb3",
   "metadata": {},
   "source": [
    "### learning_rate = 0.5, epochs_num = 10, batch_size = 10"
   ]
  },
  {
   "cell_type": "code",
   "execution_count": 99,
   "id": "b30bee68",
   "metadata": {},
   "outputs": [
    {
     "name": "stdout",
     "output_type": "stream",
     "text": [
      "Time taken:\n",
      "3.87 s\n",
      "[1.03693893 0.71066903 0.72402695 0.72487888 0.7029136  0.63002733\n",
      " 0.45781433 0.29697093 0.18938852 0.1101178  0.0521188 ]\n"
     ]
    },
    {
     "data": {
      "image/png": "[encoded data removed]",
      "text/plain": [
       "<Figure size 432x288 with 1 Axes>"
      ]
     },
     "metadata": {
      "needs_background": "light"
     },
     "output_type": "display_data"
    },
    {
     "name": "stdout",
     "output_type": "stream",
     "text": [
      "Accuracy:\n",
      "0.9949031600407747\n"
     ]
    }
   ],
   "source": [
    "tester_function(10,10,0.5)"
   ]
  },
  {
   "cell_type": "markdown",
   "id": "da9421aa",
   "metadata": {},
   "source": [
    "### learning_rate = 0.2, epochs_num = 10, batch_size = 10"
   ]
  },
  {
   "cell_type": "code",
   "execution_count": 98,
   "id": "86fa66f9",
   "metadata": {},
   "outputs": [
    {
     "name": "stdout",
     "output_type": "stream",
     "text": [
      "Time taken:\n",
      "3.79 s\n",
      "[1.07807431 0.72994631 0.72899889 0.72700063 0.72822796 0.72959029\n",
      " 0.72803649 0.72172411 0.71843407 0.70273832 0.67430026]\n"
     ]
    },
    {
     "data": {
      "image/png": "[encoded data removed]",
      "text/plain": [
       "<Figure size 432x288 with 1 Axes>"
      ]
     },
     "metadata": {
      "needs_background": "light"
     },
     "output_type": "display_data"
    },
    {
     "name": "stdout",
     "output_type": "stream",
     "text": [
      "Accuracy:\n",
      "0.5764525993883792\n"
     ]
    }
   ],
   "source": [
    "tester_function(10,10,0.2)"
   ]
  },
  {
   "cell_type": "markdown",
   "id": "c4e2f813",
   "metadata": {},
   "source": [
    "### learning_rate = 0.05, epochs_num = 10, batch_size = 10"
   ]
  },
  {
   "cell_type": "code",
   "execution_count": 100,
   "id": "52360f66",
   "metadata": {},
   "outputs": [
    {
     "name": "stdout",
     "output_type": "stream",
     "text": [
      "Time taken:\n",
      "4.17 s\n",
      "[1.00630606 0.76124185 0.7474912  0.74794065 0.74749618 0.74712047\n",
      " 0.74728629 0.7468985  0.74656261 0.74644701 0.74670059]\n"
     ]
    },
    {
     "data": {
      "image/png": "[encoded data removed]",
      "text/plain": [
       "<Figure size 432x288 with 1 Axes>"
      ]
     },
     "metadata": {
      "needs_background": "light"
     },
     "output_type": "display_data"
    },
    {
     "name": "stdout",
     "output_type": "stream",
     "text": [
      "Accuracy:\n",
      "0.24974515800203873\n"
     ]
    }
   ],
   "source": [
    "tester_function(10,10,0.02)"
   ]
  },
  {
   "cell_type": "markdown",
   "id": "f43b89e9",
   "metadata": {},
   "source": [
    "### learning_rate = 2, epochs_num = 10, batch_size = 10"
   ]
  },
  {
   "cell_type": "code",
   "execution_count": 107,
   "id": "84eb366a",
   "metadata": {},
   "outputs": [
    {
     "name": "stdout",
     "output_type": "stream",
     "text": [
      "Time taken:\n",
      "3.83 s\n",
      "[1.13484908 0.73433564 0.72817423 0.71901777 0.61415551 0.27807924\n",
      " 0.0508719  0.01669882 0.00646821 0.00296811 0.00162851]\n"
     ]
    },
    {
     "data": {
      "image/png": "[encoded data removed]",
      "text/plain": [
       "<Figure size 432x288 with 1 Axes>"
      ]
     },
     "metadata": {
      "needs_background": "light"
     },
     "output_type": "display_data"
    },
    {
     "name": "stdout",
     "output_type": "stream",
     "text": [
      "Accuracy:\n",
      "1.0\n"
     ]
    }
   ],
   "source": [
    "tester_function(10,10,2)"
   ]
  },
  {
   "cell_type": "markdown",
   "id": "6c38d9b5",
   "metadata": {},
   "source": [
    "### learning_rate = 6, epochs_num = 10, batch_size = 10"
   ]
  },
  {
   "cell_type": "code",
   "execution_count": 106,
   "id": "938fc1f2",
   "metadata": {},
   "outputs": [
    {
     "name": "stdout",
     "output_type": "stream",
     "text": [
      "Time taken:\n",
      "3.79 s\n",
      "[1.1080832  0.78465952 0.67994283 0.54394465 0.33033677 0.32478991\n",
      " 0.26258903 0.25176282 0.25474921 0.25117226 0.24903271]\n"
     ]
    },
    {
     "data": {
      "image/png": "[encoded data removed]",
      "text/plain": [
       "<Figure size 432x288 with 1 Axes>"
      ]
     },
     "metadata": {
      "needs_background": "light"
     },
     "output_type": "display_data"
    },
    {
     "name": "stdout",
     "output_type": "stream",
     "text": [
      "Accuracy:\n",
      "0.7502548419979612\n"
     ]
    }
   ],
   "source": [
    "tester_function(10,10,6)"
   ]
  },
  {
   "cell_type": "markdown",
   "id": "ffcbbe01",
   "metadata": {},
   "source": [
    "### learning_rate = 10, epochs_num = 10, batch_size = 10"
   ]
  },
  {
   "cell_type": "code",
   "execution_count": 104,
   "id": "34ef6f7b",
   "metadata": {},
   "outputs": [
    {
     "name": "stdout",
     "output_type": "stream",
     "text": [
      "Time taken:\n",
      "3.95 s\n",
      "[1.22579685 0.99999999 0.99999999 0.99999999 0.99999999 0.99999999\n",
      " 0.99999999 0.99999999 0.99999999 0.99999999 0.99999999]\n"
     ]
    },
    {
     "data": {
      "image/png": "[encoded data removed]",
      "text/plain": [
       "<Figure size 432x288 with 1 Axes>"
      ]
     },
     "metadata": {
      "needs_background": "light"
     },
     "output_type": "display_data"
    },
    {
     "name": "stdout",
     "output_type": "stream",
     "text": [
      "Accuracy:\n",
      "0.24974515800203873\n"
     ]
    }
   ],
   "source": [
    "tester_function(10,10,10)"
   ]
  },
  {
   "cell_type": "markdown",
   "id": "e38b63f1",
   "metadata": {},
   "source": [
    "##### learning_rate = 0.5, epochs_num = 5, batch_size = 10"
   ]
  },
  {
   "cell_type": "code",
   "execution_count": 109,
   "id": "b2baf8d1",
   "metadata": {},
   "outputs": [
    {
     "name": "stdout",
     "output_type": "stream",
     "text": [
      "Time taken:\n",
      "1.87 s\n",
      "[1.01961645 0.71586169 0.7265496  0.72665342 0.72286343 0.68814339]\n"
     ]
    },
    {
     "data": {
      "image/png": "[encoded data removed]",
      "text/plain": [
       "<Figure size 432x288 with 1 Axes>"
      ]
     },
     "metadata": {
      "needs_background": "light"
     },
     "output_type": "display_data"
    },
    {
     "name": "stdout",
     "output_type": "stream",
     "text": [
      "Accuracy:\n",
      "0.6712538226299695\n"
     ]
    }
   ],
   "source": [
    "tester_function(5,10,0.5)"
   ]
  },
  {
   "cell_type": "markdown",
   "id": "68d9a04e",
   "metadata": {},
   "source": [
    "### learning_rate = 0.5, epochs_num = 15, batch_size = 10"
   ]
  },
  {
   "cell_type": "code",
   "execution_count": 111,
   "id": "256bec1d",
   "metadata": {},
   "outputs": [
    {
     "name": "stdout",
     "output_type": "stream",
     "text": [
      "Time taken:\n",
      "5.48 s\n",
      "[1.10707793 0.71165324 0.7241595  0.72461426 0.71357352 0.6688151\n",
      " 0.49138287 0.26536372 0.14171244 0.06473511 0.03025248 0.01739549\n",
      " 0.0124237  0.00946842 0.00677134 0.00553307]\n"
     ]
    },
    {
     "data": {
      "image/png": "[encoded data removed]",
      "text/plain": [
       "<Figure size 432x288 with 1 Axes>"
      ]
     },
     "metadata": {
      "needs_background": "light"
     },
     "output_type": "display_data"
    },
    {
     "name": "stdout",
     "output_type": "stream",
     "text": [
      "Accuracy:\n",
      "1.0\n"
     ]
    }
   ],
   "source": [
    "tester_function(15,10,0.5)"
   ]
  },
  {
   "cell_type": "markdown",
   "id": "ccfeeb34",
   "metadata": {},
   "source": [
    "### learning_rate = 0.5, epochs_num = 5, batch_size = 5"
   ]
  },
  {
   "cell_type": "code",
   "execution_count": 112,
   "id": "cca1051d",
   "metadata": {},
   "outputs": [
    {
     "name": "stdout",
     "output_type": "stream",
     "text": [
      "Time taken:\n",
      "2.08 s\n",
      "[0.91470966 0.70772912 0.72938676 0.72359834 0.645835   0.30492299]\n"
     ]
    },
    {
     "data": {
      "image/png": "[encoded data removed]",
      "text/plain": [
       "<Figure size 432x288 with 1 Axes>"
      ]
     },
     "metadata": {
      "needs_background": "light"
     },
     "output_type": "display_data"
    },
    {
     "name": "stdout",
     "output_type": "stream",
     "text": [
      "Accuracy:\n",
      "0.8404689092762487\n"
     ]
    }
   ],
   "source": [
    "tester_function(5,5,0.5)"
   ]
  },
  {
   "cell_type": "markdown",
   "id": "325b94e0",
   "metadata": {},
   "source": [
    "### learning_rate = 0.5, epochs_num = 5, batch_size = 2"
   ]
  },
  {
   "cell_type": "code",
   "execution_count": 115,
   "id": "d5d2f1a5",
   "metadata": {},
   "outputs": [
    {
     "name": "stdout",
     "output_type": "stream",
     "text": [
      "Time taken:\n",
      "2.31 s\n",
      "[1.09841386 0.7079793  0.72397589 0.65687256 0.29009028 0.09284447]\n"
     ]
    },
    {
     "data": {
      "image/png": "[encoded data removed]",
      "text/plain": [
       "<Figure size 432x288 with 1 Axes>"
      ]
     },
     "metadata": {
      "needs_background": "light"
     },
     "output_type": "display_data"
    },
    {
     "name": "stdout",
     "output_type": "stream",
     "text": [
      "Accuracy:\n",
      "0.9607543323139653\n"
     ]
    }
   ],
   "source": [
    "tester_function(5,2,0.5)"
   ]
  },
  {
   "cell_type": "markdown",
   "id": "f237e92c",
   "metadata": {},
   "source": [
    "### learning_rate = 0.5, epochs_num = 5, batch_size = 30"
   ]
  },
  {
   "cell_type": "code",
   "execution_count": 116,
   "id": "3c7a27de",
   "metadata": {},
   "outputs": [
    {
     "name": "stdout",
     "output_type": "stream",
     "text": [
      "Time taken:\n",
      "1.76 s\n",
      "[0.99575343 0.73319473 0.73145623 0.73214799 0.73329358 0.72855937]\n"
     ]
    },
    {
     "data": {
      "image/png": "[encoded data removed]",
      "text/plain": [
       "<Figure size 432x288 with 1 Axes>"
      ]
     },
     "metadata": {
      "needs_background": "light"
     },
     "output_type": "display_data"
    },
    {
     "name": "stdout",
     "output_type": "stream",
     "text": [
      "Accuracy:\n",
      "0.24974515800203873\n"
     ]
    }
   ],
   "source": [
    "tester_function(5,30,0.5)"
   ]
  },
  {
   "cell_type": "markdown",
   "id": "49037c3a",
   "metadata": {},
   "source": [
    "### Analysis"
   ]
  },
  {
   "cell_type": "markdown",
   "id": "9587eedc",
   "metadata": {},
   "source": [
    "According to the results in each run, it can be deducted that increasing the learning rate to about 2-3 can result in higher accuracy; whereas less amounts can lead to underfitting and higher amount such as 6 or 10 can cause the model to converge too quickly to a suboptimal solution and thus result in less accuracy.\n",
    "The more epochs there is the more accurate the model gets with the training data, but we need to be cautios with this one since too many epochs can cause overfitting.\n",
    "The same thing applies to the batch size. The less the batch size is the more accurate the model gets but too little batch size can cause the model to overfit.\n"
   ]
  },
  {
   "cell_type": "markdown",
   "id": "7c76a93e",
   "metadata": {},
   "source": [
    "Best amounts for hyper parameters:\n",
    "Learning rate = 2, batch size = 5, Epoch = 15"
   ]
  },
  {
   "cell_type": "markdown",
   "id": "d14fc205",
   "metadata": {},
   "source": [
    "## Bonus 2"
   ]
  },
  {
   "cell_type": "markdown",
   "id": "195579fe",
   "metadata": {},
   "source": [
    "### Gradient Descent optimization with Momentum\n",
    "Each update in this algorithm would be:<br>\n",
    "vdw = beta(vdw) + (1-beta)dw <br>\n",
    "vdb = beta(vdb) + (1-beta)db <br>\n",
    "Wnew = Wold - (learning_rate)vdw <br>\n",
    "Bias(new) = Bias(old) - (learning_rate)vdb <br>\n",
    "The most common value for beta is 0.9 which is a pretty robust value. <br>\n",
    "SGD with momentum is a method which helps accelerate gradients in the right direction and thus leading to faster and smoother convergence."
   ]
  },
  {
   "cell_type": "code",
   "execution_count": 132,
   "id": "7c74101a",
   "metadata": {},
   "outputs": [],
   "source": [
    "def back_propagate_with_momentum(input_set, weights, biases, epochs,batch,lrate, mode):\n",
    "    startTime = time.time()\n",
    "    BATCH_SIZE = batch\n",
    "    LEARNING_RATE = lrate\n",
    "    EPOCHS_NUM = epochs\n",
    "    BETA = 0.9\n",
    "    num_batches = math.ceil(len(input_set)/BATCH_SIZE)\n",
    "    cost = np.zeros(EPOCHS_NUM+1)\n",
    "    cost[0] = calculate_cost(full_propagation(input_set,weights, biases)[3], [i[1] for i in input_set])\n",
    "    vdw = {}\n",
    "    vdb = {}\n",
    "    vdw[1] = np.zeros(shape=(102,150))\n",
    "    vdw[2] = np.zeros(shape=(150,60))\n",
    "    vdw[3] = np.zeros(shape=(60,4))\n",
    "    vdb[1] = np.zeros(150)\n",
    "    vdb[2] = np.zeros(60) \n",
    "    vdb[3] = np.zeros(4)\n",
    "    for i in range(EPOCHS_NUM):\n",
    "        random.shuffle(input_set)\n",
    "        for j in range(num_batches):\n",
    "            grad_w = {}\n",
    "            grad_b = {}\n",
    "            grad_w[1] = np.zeros(shape=(102,150))\n",
    "            grad_w[2] = np.zeros(shape=(150,60))\n",
    "            grad_w[3] = np.zeros(shape=(60,4))\n",
    "            grad_b[1] = np.zeros(150)\n",
    "            grad_b[2] = np.zeros(60)\n",
    "            grad_b[3] = np.zeros(4)\n",
    "            if j != (num_batches - 1):\n",
    "                end = (j+1)*BATCH_SIZE\n",
    "            else:\n",
    "                end = len(input_set)\n",
    "            for train in input_set[j*BATCH_SIZE:end]:\n",
    "                    predictions = full_propagation([train], weights, biases)\n",
    "                    predictions[0] = [train[0]]\n",
    "                    lab = np.array(train[1]).reshape(4)\n",
    "                    grad_a = 0\n",
    "                    if mode == 'n':\n",
    "                        x,y,grad_a =last_layer_cost_dev(predictions, lab, weights[3])\n",
    "                    else:\n",
    "                        x,y,grad_a =vectorized_last_cost_dev(predictions, lab, weights[3])\n",
    "                    grad_w[3] += x\n",
    "                    grad_b[3] += y\n",
    "                    for h in range(2,0,-1):\n",
    "                        grad_x = grad_a\n",
    "                        if mode == 'n':\n",
    "                            x,y,grad_a = hidden_layer_cost_dev(predictions,weights[h],grad_a,h)\n",
    "                        else:\n",
    "                            x,y,grad_a = vectorized_hidden_cost_dev(predictions,weights[h],grad_a,h)\n",
    "                        grad_w[h]+= x\n",
    "                        grad_b[h]+=y\n",
    "            for layer in weights.keys():\n",
    "                grad_w[layer] = grad_w[layer]/BATCH_SIZE\n",
    "                grad_b[layer] = grad_b[layer]/BATCH_SIZE\n",
    "                vdw[layer] = (BETA)*vdw[layer] + (1-BETA)*grad_w[layer]\n",
    "                vdb[layer] = (BETA)*vdb[layer] + (1-BETA)*grad_b[layer]\n",
    "            for layer in weights.keys():\n",
    "                weights[layer] = weights[layer] -(LEARNING_RATE*(vdw[layer]))\n",
    "                biases[layer] = biases[layer] - (LEARNING_RATE*(vdb[layer]))\n",
    "            \n",
    "            cost[i+1] += calculate_cost(full_propagation(input_set[j*BATCH_SIZE:end],weights, biases)[3], [i[1] for i in input_set[j*BATCH_SIZE:end]])/num_batches\n",
    "            \n",
    "    print(\"Time taken:\")\n",
    "    print(str(round((time.time() - startTime),2)),'s')\n",
    "#     print(calculate_accuracy(full_propagation(train_set[:200],weights, biases)[3],train_set[:200]))\n",
    "    return weights, biases,cost"
   ]
  },
  {
   "cell_type": "markdown",
   "id": "b518e2e1",
   "metadata": {},
   "source": [
    "### Testing the SGD algorithm with momentum vs without momentum\n",
    "For the sake of the argument let's multiply the weights in 0.1 so that the difference could be evident:\n"
   ]
  },
  {
   "cell_type": "code",
   "execution_count": 135,
   "id": "53a12571",
   "metadata": {},
   "outputs": [],
   "source": [
    "def tester_function2(momentum,epoch, batch, learning):\n",
    "    weights, biases = initialize_weights()\n",
    "    for l in weights.keys():\n",
    "        weights[l] = weights[l]* 0.1\n",
    "    if not momentum:\n",
    "        weights,biases, cost= (back_propagate(train_set,weights, biases, epoch, batch, learning ,'v'))\n",
    "    else:\n",
    "        weights,biases, cost= (back_propagate_with_momentum(train_set,weights, biases, epoch, batch, learning ,'v'))\n",
    "    print(cost)\n",
    "    do_plotting(cost)\n",
    "    print('Accuracy:')\n",
    "    print(calculate_accuracy(full_propagation(train_set,weights, biases)[3],train_set))"
   ]
  },
  {
   "cell_type": "markdown",
   "id": "74080626",
   "metadata": {},
   "source": [
    "As it can be seen if learning rate is set to 10 which is too high and leads to low accuracy (0.24 in this particular example) in normal SGD, SGD with momentum smooths the convergence and leads to greater accuracy (1 in this particular example).\n"
   ]
  },
  {
   "cell_type": "code",
   "execution_count": 140,
   "id": "9f450e50",
   "metadata": {},
   "outputs": [
    {
     "name": "stdout",
     "output_type": "stream",
     "text": [
      ">> SGD without momentum\n",
      "Time taken:\n",
      "3.57 s\n",
      "[1.08152688 0.99999997 0.99999997 0.99999997 0.99999997 0.99999997\n",
      " 0.99999997 0.99999997 0.99999997 0.99999997 0.99999997]\n"
     ]
    },
    {
     "data": {
      "image/png": "[encoded data removed]",
      "text/plain": [
       "<Figure size 432x288 with 1 Axes>"
      ]
     },
     "metadata": {
      "needs_background": "light"
     },
     "output_type": "display_data"
    },
    {
     "name": "stdout",
     "output_type": "stream",
     "text": [
      "Accuracy:\n",
      "0.24974515800203873\n",
      ">> SGD with momentum\n",
      "Time taken:\n",
      "3.68 s\n",
      "[1.30040388e+00 8.50571969e-01 7.58584303e-01 7.58748994e-01\n",
      " 6.46098879e-01 2.27757946e-01 2.75468632e-03 1.07045268e-03\n",
      " 7.33606069e-04 5.49641299e-04 4.36941227e-04]\n"
     ]
    },
    {
     "data": {
      "image/png": "[encoded data removed]",
      "text/plain": [
       "<Figure size 432x288 with 1 Axes>"
      ]
     },
     "metadata": {
      "needs_background": "light"
     },
     "output_type": "display_data"
    },
    {
     "name": "stdout",
     "output_type": "stream",
     "text": [
      "Accuracy:\n",
      "1.0\n"
     ]
    }
   ],
   "source": [
    "print('>> SGD without momentum')\n",
    "tester_function2(False, 10, 15, 10)\n",
    "print('>> SGD with momentum')\n",
    "tester_function2(True, 10, 15, 10)"
   ]
  },
  {
   "cell_type": "markdown",
   "id": "5203adaf",
   "metadata": {},
   "source": [
    "SGD with momentum also converges faster and leads to lower costs."
   ]
  },
  {
   "cell_type": "code",
   "execution_count": 144,
   "id": "49b1f13f",
   "metadata": {},
   "outputs": [
    {
     "name": "stdout",
     "output_type": "stream",
     "text": [
      ">> SGD without momentum\n",
      "Time taken:\n",
      "3.61 s\n",
      "[0.87196542 0.72696694 0.72917044 0.73233494 0.73263214 0.72374738\n",
      " 0.69223666 0.62712046 0.49503542 0.33475332 0.24112989]\n"
     ]
    },
    {
     "data": {
      "image/png": "[encoded data removed]",
      "text/plain": [
       "<Figure size 432x288 with 1 Axes>"
      ]
     },
     "metadata": {
      "needs_background": "light"
     },
     "output_type": "display_data"
    },
    {
     "name": "stdout",
     "output_type": "stream",
     "text": [
      "Accuracy:\n",
      "0.8899082568807339\n",
      ">> SGD with momentum\n",
      "Time taken:\n",
      "3.71 s\n",
      "[0.89419052 0.76455734 0.75216078 0.74737161 0.73953965 0.7006297\n",
      " 0.54143886 0.38347589 0.25556007 0.15303721 0.07041881]\n"
     ]
    },
    {
     "data": {
      "image/png": "[encoded data removed]",
      "text/plain": [
       "<Figure size 432x288 with 1 Axes>"
      ]
     },
     "metadata": {
      "needs_background": "light"
     },
     "output_type": "display_data"
    },
    {
     "name": "stdout",
     "output_type": "stream",
     "text": [
      "Accuracy:\n",
      "0.9964322120285423\n"
     ]
    }
   ],
   "source": [
    "print('>> SGD without momentum')\n",
    "tester_function2(False, 10 , 20, 1)\n",
    "print('>> SGD with momentum')\n",
    "tester_function2(True, 10, 20, 1)"
   ]
  }
 ],
 "metadata": {
  "kernelspec": {
   "display_name": "Python 3",
   "language": "python",
   "name": "python3"
  },
  "language_info": {
   "codemirror_mode": {
    "name": "ipython",
    "version": 3
   },
   "file_extension": ".py",
   "mimetype": "text/x-python",
   "name": "python",
   "nbconvert_exporter": "python",
   "pygments_lexer": "ipython3",
   "version": "3.8.8"
  }
 },
 "nbformat": 4,
 "nbformat_minor": 5
}
